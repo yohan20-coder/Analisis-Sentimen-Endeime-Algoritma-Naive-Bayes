{
  "cells": [
    {
      "cell_type": "markdown",
      "metadata": {
        "id": "view-in-github",
        "colab_type": "text"
      },
      "source": [
        "<a href=\"https://colab.research.google.com/github/yohan20-coder/Analisis-Sentimen-Endeime-Algoritma-Naive-Bayes/blob/main/Sentimen-Analisis-Pembaharuan.ipynb\" target=\"_parent\"><img src=\"https://colab.research.google.com/assets/colab-badge.svg\" alt=\"Open In Colab\"/></a>"
      ]
    },
    {
      "cell_type": "markdown",
      "metadata": {
        "id": "koH63CEKebwk"
      },
      "source": [
        "## **1. TAHAP IMPORT LIBRARI**"
      ]
    },
    {
      "cell_type": "code",
      "execution_count": 1,
      "metadata": {
        "colab": {
          "base_uri": "https://localhost:8080/"
        },
        "id": "FlQoE-i8iQZT",
        "outputId": "60917dc6-d28d-48d3-c930-b67a35a71d82"
      },
      "outputs": [
        {
          "output_type": "stream",
          "name": "stdout",
          "text": [
            "Collecting Sastrawi\n",
            "  Downloading Sastrawi-1.0.1-py2.py3-none-any.whl.metadata (909 bytes)\n",
            "Downloading Sastrawi-1.0.1-py2.py3-none-any.whl (209 kB)\n",
            "\u001b[?25l   \u001b[90m━━━━━━━━━━━━━━━━━━━━━━━━━━━━━━━━━━━━━━━━\u001b[0m \u001b[32m0.0/209.7 kB\u001b[0m \u001b[31m?\u001b[0m eta \u001b[36m-:--:--\u001b[0m\r\u001b[2K   \u001b[91m━━━━━━━━━━━━━━━━━━━━━━━\u001b[0m\u001b[90m╺\u001b[0m\u001b[90m━━━━━━━━━━━━━━━━\u001b[0m \u001b[32m122.9/209.7 kB\u001b[0m \u001b[31m3.4 MB/s\u001b[0m eta \u001b[36m0:00:01\u001b[0m\r\u001b[2K   \u001b[90m━━━━━━━━━━━━━━━━━━━━━━━━━━━━━━━━━━━━━━━━\u001b[0m \u001b[32m209.7/209.7 kB\u001b[0m \u001b[31m3.6 MB/s\u001b[0m eta \u001b[36m0:00:00\u001b[0m\n",
            "\u001b[?25hInstalling collected packages: Sastrawi\n",
            "Successfully installed Sastrawi-1.0.1\n"
          ]
        }
      ],
      "source": [
        "!pip install Sastrawi"
      ]
    },
    {
      "cell_type": "code",
      "execution_count": 2,
      "metadata": {
        "id": "XNqBEj4aeBw1"
      },
      "outputs": [],
      "source": [
        "# ==========================\n",
        "# 1. Import Library\n",
        "# ==========================\n",
        "import pandas as pd\n",
        "import re\n",
        "import string\n",
        "from sklearn.feature_extraction.text import TfidfVectorizer\n",
        "from sklearn.model_selection import train_test_split\n",
        "from sklearn.naive_bayes import MultinomialNB\n",
        "from sklearn.metrics import classification_report, accuracy_score\n",
        "from Sastrawi.Stemmer.StemmerFactory import StemmerFactory\n",
        "from Sastrawi.StopWordRemover.StopWordRemoverFactory import StopWordRemoverFactory\n",
        "from sklearn.metrics import confusion_matrix\n",
        "import matplotlib.pyplot as plt\n",
        "import seaborn as sns"
      ]
    },
    {
      "cell_type": "markdown",
      "metadata": {
        "id": "nYrmOxo7ss-R"
      },
      "source": [
        "## **2. TAHAP LOAD DATASET**"
      ]
    },
    {
      "cell_type": "code",
      "execution_count": 3,
      "metadata": {
        "colab": {
          "base_uri": "https://localhost:8080/"
        },
        "id": "DKEl9vFVikZn",
        "outputId": "91b8d0b8-3eba-4955-ea3b-8b94cd235ad9"
      },
      "outputs": [
        {
          "output_type": "stream",
          "name": "stdout",
          "text": [
            "Jumlah data sebelum cleaning: 103\n",
            "                                                                  text  \\\n",
            "Motif tenun ikat Flores sangat indah dan unik        saya suka sekali.   \n",
            "Kualitas kain tenun Flores kurang halus menurut...             negatif   \n",
            "Tenun ikat Ende cocok dipakai untuk acara resmi         sangat elegan.   \n",
            "Harga pakaian tenun terlalu mahal dibanding kua...             negatif   \n",
            "Tenun khas Flores memiliki nilai budaya tinggi             luar biasa.   \n",
            "\n",
            "                                                      label  \n",
            "Motif tenun ikat Flores sangat indah dan unik       positif  \n",
            "Kualitas kain tenun Flores kurang halus menurut...      NaN  \n",
            "Tenun ikat Ende cocok dipakai untuk acara resmi     positif  \n",
            "Harga pakaian tenun terlalu mahal dibanding kua...      NaN  \n",
            "Tenun khas Flores memiliki nilai budaya tinggi      positif  \n",
            "\n",
            "Label unik yang ditemukan di dataset:\n",
            "['positif' 'netral' 'negatif']\n",
            "\n",
            "Distribusi Label:\n",
            "label\n",
            "positif     5\n",
            "negatif     1\n",
            "netral     97\n",
            "Name: count, dtype: int64\n"
          ]
        }
      ],
      "source": [
        "# Load CSV\n",
        "df = pd.read_csv(\"/content/sample_data/endeisme_dataset_sentimen.csv\")\n",
        "\n",
        "print(\"Jumlah data sebelum cleaning:\", len(df))\n",
        "print(df.head())\n",
        "\n",
        "# ==========================\n",
        "# Bersihkan Data\n",
        "# ==========================\n",
        "# Hapus baris yang semua kolomnya NaN\n",
        "df = df.dropna(how=\"all\")\n",
        "\n",
        "# Isi NaN di kolom text dan label\n",
        "df['text'] = df['text'].fillna('')\n",
        "df['label'] = df['label'].fillna('netral')\n",
        "\n",
        "# Normalisasi label (hilangkan spasi, huruf kecil semua)\n",
        "df['label'] = df['label'].astype(str).str.strip().str.lower()\n",
        "\n",
        "# ==========================\n",
        "# Cek Label Unik\n",
        "# ==========================\n",
        "print(\"\\nLabel unik yang ditemukan di dataset:\")\n",
        "print(df['label'].unique())\n",
        "\n",
        "# ==========================\n",
        "# Distribusi Label\n",
        "# ==========================\n",
        "# Pastikan semua label muncul (meskipun jumlah 0)\n",
        "label_order = [\"positif\", \"negatif\", \"netral\"]\n",
        "df['label'] = pd.Categorical(df['label'], categories=label_order)\n",
        "\n",
        "print(\"\\nDistribusi Label:\")\n",
        "print(df['label'].value_counts().reindex(label_order, fill_value=0))"
      ]
    },
    {
      "cell_type": "markdown",
      "metadata": {
        "id": "7amc51vDtT2X"
      },
      "source": [
        "## **3. TAHAP PREPOCESSING DATA**"
      ]
    },
    {
      "cell_type": "code",
      "execution_count": 5,
      "metadata": {
        "colab": {
          "base_uri": "https://localhost:8080/"
        },
        "id": "KhAM77C8ixTk",
        "outputId": "a8764d76-577e-4eff-bb98-24ab86c23fa5"
      },
      "outputs": [
        {
          "output_type": "stream",
          "name": "stdout",
          "text": [
            "\n",
            "Hasil Preprocessing:\n",
            "                                                                  text  \\\n",
            "Motif tenun ikat Flores sangat indah dan unik        saya suka sekali.   \n",
            "Kualitas kain tenun Flores kurang halus menurut...             negatif   \n",
            "Tenun ikat Ende cocok dipakai untuk acara resmi         sangat elegan.   \n",
            "Harga pakaian tenun terlalu mahal dibanding kua...             negatif   \n",
            "Tenun khas Flores memiliki nilai budaya tinggi             luar biasa.   \n",
            "\n",
            "                                                       clean_text  \n",
            "Motif tenun ikat Flores sangat indah dan unik         suka sekali  \n",
            "Kualitas kain tenun Flores kurang halus menurut...        negatif  \n",
            "Tenun ikat Ende cocok dipakai untuk acara resmi     sangat elegan  \n",
            "Harga pakaian tenun terlalu mahal dibanding kua...        negatif  \n",
            "Tenun khas Flores memiliki nilai budaya tinggi         luar biasa  \n"
          ]
        }
      ],
      "source": [
        "# Buat stemmer dan stopword remover\n",
        "stemmer = StemmerFactory().create_stemmer()\n",
        "stop_factory = StopWordRemoverFactory()\n",
        "stopwords = set(stop_factory.get_stop_words())\n",
        "\n",
        "def preprocess(text):\n",
        "    # Lowercase\n",
        "    text = text.lower()\n",
        "    # Hapus angka\n",
        "    text = re.sub(r'\\d+', '', text)\n",
        "    # Hapus tanda baca\n",
        "    text = text.translate(str.maketrans('', '', string.punctuation))\n",
        "    # Hapus spasi berlebih (termasuk di tengah kalimat)\n",
        "    text = re.sub(r'\\s+', ' ', text).strip()\n",
        "    # Tokenisasi manual\n",
        "    tokens = text.split()\n",
        "    # Stopword removal\n",
        "    tokens = [w for w in tokens if w not in stopwords]\n",
        "    # Stemming\n",
        "    tokens = [stemmer.stem(w) for w in tokens]\n",
        "    return ' '.join(tokens)\n",
        "\n",
        "# Terapkan preprocessing\n",
        "df[\"clean_text\"] = df[\"text\"].apply(preprocess)\n",
        "\n",
        "print(\"\\nHasil Preprocessing:\")\n",
        "print(df[[\"text\", \"clean_text\"]].head())\n",
        "\n",
        "# ==========================\n",
        "# TF-IDF\n",
        "# ==========================\n",
        "vectorizer = TfidfVectorizer()\n",
        "X = vectorizer.fit_transform(df[\"clean_text\"])\n",
        "y = df[\"label\"].astype(str).str.strip().str.lower()  # normalisasi label\n",
        "\n",
        "# Pastikan label kategori konsisten\n",
        "label_order = [\"positif\", \"negatif\", \"netral\"]\n",
        "y = pd.Categorical(y, categories=label_order)\n",
        "\n",
        "# Split train-test 80:20 (pakai stratify supaya semua label terbagi)\n",
        "X_train, X_test, y_train, y_test = train_test_split(\n",
        "    X, y, test_size=0.2, random_state=42\n",
        ")"
      ]
    },
    {
      "cell_type": "markdown",
      "metadata": {
        "id": "hNhMj-XFt3cA"
      },
      "source": [
        "## **4. TAHAP CLASSIFICATION DENGAN ALGORITMA NAIVE BAYES**"
      ]
    },
    {
      "cell_type": "code",
      "execution_count": 6,
      "metadata": {
        "colab": {
          "base_uri": "https://localhost:8080/"
        },
        "id": "3kgVFVugjFsA",
        "outputId": "26d5b538-7b9d-4351-f7e5-cd5ffb664992"
      },
      "outputs": [
        {
          "output_type": "stream",
          "name": "stdout",
          "text": [
            "MultinomialNB()\n"
          ]
        }
      ],
      "source": [
        "# ==========================\n",
        "# 5. Naive Bayes Classification\n",
        "# ==========================\n",
        "model = MultinomialNB()\n",
        "model.fit(X_train, y_train)\n",
        "# Prediksi\n",
        "y_pred = model.predict(X_test)\n",
        "print(model)\n"
      ]
    },
    {
      "cell_type": "markdown",
      "metadata": {
        "id": "-NGxXxciuEaH"
      },
      "source": [
        "## **5. TAHAP EVALUASI**"
      ]
    },
    {
      "cell_type": "code",
      "execution_count": 7,
      "metadata": {
        "colab": {
          "base_uri": "https://localhost:8080/",
          "height": 1000
        },
        "id": "H9oDubkGjaal",
        "outputId": "655a51da-8761-41e1-915c-7473f8cbe884"
      },
      "outputs": [
        {
          "output_type": "stream",
          "name": "stdout",
          "text": [
            "\n",
            "Akurasi: 0.8571428571428571\n",
            "\n",
            "Classification Report:\n",
            "              precision    recall  f1-score   support\n",
            "\n",
            "     positif     0.8571    1.0000    0.9231        18\n",
            "      netral     0.0000    0.0000    0.0000         3\n",
            "\n",
            "    accuracy                         0.8571        21\n",
            "   macro avg     0.4286    0.5000    0.4615        21\n",
            "weighted avg     0.7347    0.8571    0.7912        21\n",
            "\n"
          ]
        },
        {
          "output_type": "stream",
          "name": "stderr",
          "text": [
            "/usr/local/lib/python3.12/dist-packages/sklearn/metrics/_classification.py:1565: UndefinedMetricWarning: Precision is ill-defined and being set to 0.0 in labels with no predicted samples. Use `zero_division` parameter to control this behavior.\n",
            "  _warn_prf(average, modifier, f\"{metric.capitalize()} is\", len(result))\n",
            "/usr/local/lib/python3.12/dist-packages/sklearn/metrics/_classification.py:1565: UndefinedMetricWarning: Precision is ill-defined and being set to 0.0 in labels with no predicted samples. Use `zero_division` parameter to control this behavior.\n",
            "  _warn_prf(average, modifier, f\"{metric.capitalize()} is\", len(result))\n",
            "/usr/local/lib/python3.12/dist-packages/sklearn/metrics/_classification.py:1565: UndefinedMetricWarning: Precision is ill-defined and being set to 0.0 in labels with no predicted samples. Use `zero_division` parameter to control this behavior.\n",
            "  _warn_prf(average, modifier, f\"{metric.capitalize()} is\", len(result))\n"
          ]
        },
        {
          "output_type": "display_data",
          "data": {
            "text/plain": [
              "<Figure size 600x400 with 1 Axes>"
            ],
            "image/png": "[encoded data removed]"
          },
          "metadata": {}
        },
        {
          "output_type": "display_data",
          "data": {
            "text/plain": [
              "<Figure size 600x400 with 2 Axes>"
            ],
            "image/png": "[encoded data removed]"
          },
          "metadata": {}
        }
      ],
      "source": [
        "# ==========================\n",
        "# 6. Evaluasi\n",
        "# ==========================\n",
        "print(\"\\nAkurasi:\", accuracy_score(y_test, y_pred))\n",
        "print(\"\\nClassification Report:\")\n",
        "\n",
        "# Get the unique labels present in y_test\n",
        "unique_labels_in_test = y_test.unique()\n",
        "\n",
        "# Filter target_names to include only the unique labels in y_test\n",
        "filtered_target_names = [label for label in [\"positif\",\"negatif\",\"netral\"] if label in unique_labels_in_test]\n",
        "\n",
        "print(classification_report(y_test, y_pred, digits=4, labels=unique_labels_in_test, target_names=filtered_target_names))\n",
        "\n",
        "# ==========================\n",
        "# 6a. Visualisasi Distribusi Label\n",
        "# ==========================\n",
        "plt.figure(figsize=(6,4))\n",
        "df['label'].value_counts().plot(kind='bar', color=['green','red','gray'])\n",
        "plt.title(\"Distribusi Data Sentimen\")\n",
        "plt.xlabel(\"Label\")\n",
        "plt.ylabel(\"Jumlah\")\n",
        "plt.show()\n",
        "\n",
        "# ==========================\n",
        "# 6b. Confusion Matrix\n",
        "# ==========================\n",
        "# Use the unique labels in y_test for the confusion matrix\n",
        "cm = confusion_matrix(y_test, y_pred, labels=unique_labels_in_test)\n",
        "\n",
        "plt.figure(figsize=(6,4))\n",
        "sns.heatmap(cm, annot=True, fmt=\"d\", cmap=\"Blues\",\n",
        "            xticklabels=filtered_target_names,\n",
        "            yticklabels=filtered_target_names)\n",
        "plt.title(\"Confusion Matrix Hasil Prediksi\")\n",
        "plt.xlabel(\"Prediksi\")\n",
        "plt.ylabel(\"Aktual\")\n",
        "plt.show()"
      ]
    },
    {
      "cell_type": "markdown",
      "metadata": {
        "id": "IBzwrchTZn04"
      },
      "source": [
        "## **6. PRESENTASE DISTRIBUSI**"
      ]
    },
    {
      "cell_type": "code",
      "execution_count": 8,
      "metadata": {
        "colab": {
          "base_uri": "https://localhost:8080/"
        },
        "id": "1cb80ece",
        "outputId": "5ed5143a-1c73-49a1-8f47-ced4d7da1438"
      },
      "outputs": [
        {
          "output_type": "stream",
          "name": "stdout",
          "text": [
            "\n",
            "Persentase Distribusi Label:\n",
            "label\n",
            "positif     4.854369\n",
            "negatif     0.970874\n",
            "netral     94.174757\n",
            "Name: proportion, dtype: float64\n"
          ]
        }
      ],
      "source": [
        "# ==========================\n",
        "# 6c. Persentase Distribusi Label\n",
        "# ==========================\n",
        "label_percentages = df['label'].value_counts(normalize=True) * 100\n",
        "print(\"\\nPersentase Distribusi Label:\")\n",
        "print(label_percentages.reindex([\"positif\", \"negatif\", \"netral\"], fill_value=0))"
      ]
    },
    {
      "cell_type": "code",
      "execution_count": 9,
      "metadata": {
        "colab": {
          "base_uri": "https://localhost:8080/",
          "height": 410
        },
        "id": "6d5579ba",
        "outputId": "efa5f6c6-abf3-408a-aca7-8cb8659d69dc"
      },
      "outputs": [
        {
          "output_type": "display_data",
          "data": {
            "text/plain": [
              "<Figure size 600x400 with 1 Axes>"
            ],
            "image/png": "[encoded data removed]"
          },
          "metadata": {}
        }
      ],
      "source": [
        "# ==========================\n",
        "# 6d. Visualisasi Persentase Distribusi Label\n",
        "# ==========================\n",
        "plt.figure(figsize=(6,4))\n",
        "ax = label_percentages.reindex([\"positif\", \"negatif\", \"netral\"], fill_value=0).plot(kind='bar', color=['green','red','gray'])\n",
        "plt.title(\"Persentase Distribusi Data Sentimen\")\n",
        "plt.xlabel(\"Label\")\n",
        "plt.ylabel(\"Persentase\")\n",
        "plt.xticks(rotation=0)\n",
        "\n",
        "# Add percentage labels on top of bars\n",
        "for p in ax.patches:\n",
        "    ax.annotate(f'{p.get_height():.2f}%', (p.get_x() + p.get_width() / 2., p.get_height()),\n",
        "                ha='center', va='center', xytext=(0, 5), textcoords='offset points')\n",
        "\n",
        "plt.show()"
      ]
    }
  ],
  "metadata": {
    "colab": {
      "provenance": [],
      "include_colab_link": true
    },
    "kernelspec": {
      "display_name": "Python 3",
      "name": "python3"
    },
    "language_info": {
      "name": "python"
    }
  },
  "nbformat": 4,
  "nbformat_minor": 0
}