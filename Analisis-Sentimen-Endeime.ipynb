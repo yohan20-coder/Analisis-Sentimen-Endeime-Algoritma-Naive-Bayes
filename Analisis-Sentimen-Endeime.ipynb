{
  "nbformat": 4,
  "nbformat_minor": 0,
  "metadata": {
    "colab": {
      "provenance": [],
      "authorship_tag": "ABX9TyNVThQwCshxBRJTTPYkOgmx",
      "include_colab_link": true
    },
    "kernelspec": {
      "name": "python3",
      "display_name": "Python 3"
    },
    "language_info": {
      "name": "python"
    }
  },
  "cells": [
    {
      "cell_type": "markdown",
      "metadata": {
        "id": "view-in-github",
        "colab_type": "text"
      },
      "source": [
        "<a href=\"https://colab.research.google.com/github/yohan20-coder/Analisis-Sentimen-Endeime-Algoritma-Naive-Bayes/blob/main/Analisis-Sentimen-Endeime.ipynb\" target=\"_parent\"><img src=\"https://colab.research.google.com/assets/colab-badge.svg\" alt=\"Open In Colab\"/></a>"
      ]
    },
    {
      "cell_type": "markdown",
      "source": [
        "## **1. TAHAP IMPORT LIBRARI**"
      ],
      "metadata": {
        "id": "koH63CEKebwk"
      }
    },
    {
      "cell_type": "code",
      "source": [
        "!pip install Sastrawi"
      ],
      "metadata": {
        "colab": {
          "base_uri": "https://localhost:8080/"
        },
        "id": "FlQoE-i8iQZT",
        "outputId": "56ee4849-4654-4c22-e68a-ec1e3e060cf8"
      },
      "execution_count": 23,
      "outputs": [
        {
          "output_type": "stream",
          "name": "stdout",
          "text": [
            "Requirement already satisfied: Sastrawi in /usr/local/lib/python3.12/dist-packages (1.0.1)\n"
          ]
        }
      ]
    },
    {
      "cell_type": "code",
      "execution_count": 24,
      "metadata": {
        "id": "XNqBEj4aeBw1"
      },
      "outputs": [],
      "source": [
        "# ==========================\n",
        "# 1. Import Library\n",
        "# ==========================\n",
        "import pandas as pd\n",
        "import re\n",
        "import string\n",
        "from sklearn.feature_extraction.text import TfidfVectorizer\n",
        "from sklearn.model_selection import train_test_split\n",
        "from sklearn.naive_bayes import MultinomialNB\n",
        "from sklearn.metrics import classification_report, accuracy_score\n",
        "from Sastrawi.Stemmer.StemmerFactory import StemmerFactory\n",
        "from Sastrawi.StopWordRemover.StopWordRemoverFactory import StopWordRemoverFactory\n",
        "from sklearn.metrics import confusion_matrix\n",
        "import matplotlib.pyplot as plt\n",
        "import seaborn as sns"
      ]
    },
    {
      "cell_type": "markdown",
      "source": [
        "## **2. TAHAP LOAD DATASET**"
      ],
      "metadata": {
        "id": "nYrmOxo7ss-R"
      }
    },
    {
      "cell_type": "code",
      "source": [
        "# 2. Load Dataset\n",
        "# ==========================\n",
        "df = pd.read_csv(\"/content/sample_data/endeisme_dataset_sentimen.csv\")\n",
        "\n",
        "print(\"Jumlah data:\", len(df))\n",
        "print(df.head())\n",
        "\n",
        "# Bersihkan NaN\n",
        "df = df.dropna()\n",
        "df['text'] = df['text'].fillna('')\n",
        "df['label'] = df['label'].fillna('netral')"
      ],
      "metadata": {
        "colab": {
          "base_uri": "https://localhost:8080/"
        },
        "id": "DKEl9vFVikZn",
        "outputId": "7c70bd3d-c163-4690-e9da-cd8195c8de08"
      },
      "execution_count": 25,
      "outputs": [
        {
          "output_type": "stream",
          "name": "stdout",
          "text": [
            "Jumlah data: 103\n",
            "                                                                  text  \\\n",
            "Motif tenun ikat Flores sangat indah dan unik        saya suka sekali.   \n",
            "Kualitas kain tenun Flores kurang halus menurut...             negatif   \n",
            "Tenun ikat Ende cocok dipakai untuk acara resmi         sangat elegan.   \n",
            "Harga pakaian tenun terlalu mahal dibanding kua...             negatif   \n",
            "Tenun khas Flores memiliki nilai budaya tinggi             luar biasa.   \n",
            "\n",
            "                                                      label  \n",
            "Motif tenun ikat Flores sangat indah dan unik       positif  \n",
            "Kualitas kain tenun Flores kurang halus menurut...      NaN  \n",
            "Tenun ikat Ende cocok dipakai untuk acara resmi     positif  \n",
            "Harga pakaian tenun terlalu mahal dibanding kua...      NaN  \n",
            "Tenun khas Flores memiliki nilai budaya tinggi      positif  \n"
          ]
        }
      ]
    },
    {
      "cell_type": "markdown",
      "source": [
        "## **3. TAHAP PREPOCESSING DATA**"
      ],
      "metadata": {
        "id": "7amc51vDtT2X"
      }
    },
    {
      "cell_type": "code",
      "source": [
        "# ==========================\n",
        "# 3. Preprocessing\n",
        "# ==========================\n",
        "\n",
        "# Buat stemmer dan stopword remover\n",
        "stemmer = StemmerFactory().create_stemmer()\n",
        "stop_factory = StopWordRemoverFactory()\n",
        "stopwords = set(stop_factory.get_stop_words())\n",
        "\n",
        "def preprocess(text):\n",
        "    # Lowercase\n",
        "    text = text.lower()\n",
        "    # Hapus angka\n",
        "    text = re.sub(r'\\d+', '', text)\n",
        "    # Hapus tanda baca\n",
        "    text = text.translate(str.maketrans('', '', string.punctuation))\n",
        "    # Hapus spasi berlebih\n",
        "    text = text.strip()\n",
        "    # Tokenisasi manual\n",
        "    tokens = text.split()\n",
        "    # Stopword removal\n",
        "    tokens = [w for w in tokens if w not in stopwords]\n",
        "    # Stemming\n",
        "    tokens = [stemmer.stem(w) for w in tokens]\n",
        "    return ' '.join(tokens)\n",
        "\n",
        "df[\"clean_text\"] = df[\"text\"].apply(preprocess)\n",
        "\n",
        "print(\"\\nHasil Preprocessing:\")\n",
        "print(df[[\"text\", \"clean_text\"]].head())\n",
        "\n",
        "\n",
        "# ==========================\n",
        "# TF-IDF\n",
        "# ==========================\n",
        "vectorizer = TfidfVectorizer()\n",
        "X = vectorizer.fit_transform(df[\"clean_text\"])\n",
        "y = df[\"label\"]\n",
        "\n",
        "# Split train-test 80:20\n",
        "X_train, X_test, y_train, y_test = train_test_split(X, y,\n",
        "                                                    test_size=0.2,\n",
        "                                                    random_state=42)"
      ],
      "metadata": {
        "colab": {
          "base_uri": "https://localhost:8080/"
        },
        "id": "KhAM77C8ixTk",
        "outputId": "c5885aa2-523a-41fc-cc29-7f9ad745a346"
      },
      "execution_count": 26,
      "outputs": [
        {
          "output_type": "stream",
          "name": "stdout",
          "text": [
            "\n",
            "Hasil Preprocessing:\n",
            "                                                               text  \\\n",
            "Motif tenun ikat Flores sangat indah dan unik     saya suka sekali.   \n",
            "Tenun ikat Ende cocok dipakai untuk acara resmi      sangat elegan.   \n",
            "Tenun khas Flores memiliki nilai budaya tinggi          luar biasa.   \n",
            "Saya kurang suka rasa Kopi Flores                     terlalu kuat.   \n",
            "Kentang Goreng khas Flores enak sekali            gurih dan renyah.   \n",
            "\n",
            "                                                    clean_text  \n",
            "Motif tenun ikat Flores sangat indah dan unik      suka sekali  \n",
            "Tenun ikat Ende cocok dipakai untuk acara resmi  sangat elegan  \n",
            "Tenun khas Flores memiliki nilai budaya tinggi      luar biasa  \n",
            "Saya kurang suka rasa Kopi Flores                 terlalu kuat  \n",
            "Kentang Goreng khas Flores enak sekali            gurih renyah  \n"
          ]
        }
      ]
    },
    {
      "cell_type": "markdown",
      "source": [
        "## **4. TAHAP CLASSIFICATION DENGAN ALGORITMA NAIVE BAYES**"
      ],
      "metadata": {
        "id": "hNhMj-XFt3cA"
      }
    },
    {
      "cell_type": "code",
      "source": [
        "# ==========================\n",
        "# 5. Naive Bayes Classification\n",
        "# ==========================\n",
        "model = MultinomialNB()\n",
        "model.fit(X_train, y_train)\n",
        "# Prediksi\n",
        "y_pred = model.predict(X_test)\n",
        "print(model)\n"
      ],
      "metadata": {
        "id": "3kgVFVugjFsA",
        "colab": {
          "base_uri": "https://localhost:8080/"
        },
        "outputId": "99cfa0f7-6aa1-4c71-f79b-229afd90e271"
      },
      "execution_count": 27,
      "outputs": [
        {
          "output_type": "stream",
          "name": "stdout",
          "text": [
            "MultinomialNB()\n"
          ]
        }
      ]
    },
    {
      "cell_type": "markdown",
      "source": [
        "## **5. TAHAP EVALUASI**"
      ],
      "metadata": {
        "id": "-NGxXxciuEaH"
      }
    },
    {
      "cell_type": "code",
      "source": [
        "# ==========================\n",
        "# 6. Evaluasi\n",
        "# ==========================\n",
        "print(\"\\nAkurasi:\", accuracy_score(y_test, y_pred))\n",
        "print(\"\\nClassification Report:\")\n",
        "print(classification_report(y_test, y_pred, digits=4))\n",
        "\n",
        "# ==========================\n",
        "# 6a. Visualisasi Distribusi Label\n",
        "# ==========================\n",
        "plt.figure(figsize=(6,4))\n",
        "df['label'].value_counts().plot(kind='bar', color=['green','red'])\n",
        "plt.title(\"Distribusi Data Sentimen\")\n",
        "plt.xlabel(\"Label\")\n",
        "plt.ylabel(\"Jumlah\")\n",
        "plt.show()\n",
        "\n",
        "# ==========================\n",
        "# 6b. Confusion Matrix\n",
        "# ==========================\n",
        "cm = confusion_matrix(y_test, y_pred, labels=[\"positif\",\"negatif\"])\n",
        "\n",
        "plt.figure(figsize=(6,4))\n",
        "sns.heatmap(cm, annot=True, fmt=\"d\", cmap=\"Blues\", xticklabels=[\"positif\",\"negatif\"], yticklabels=[\"positif\",\"negatif\"])\n",
        "plt.title(\"Confusion Matrix Hasil Prediksi\")\n",
        "plt.xlabel(\"Prediksi\")\n",
        "plt.ylabel(\"Aktual\")\n",
        "plt.show()"
      ],
      "metadata": {
        "colab": {
          "base_uri": "https://localhost:8080/",
          "height": 1000
        },
        "id": "H9oDubkGjaal",
        "outputId": "9781da7c-88fb-4103-8847-4b51abc331f8"
      },
      "execution_count": 28,
      "outputs": [
        {
          "output_type": "stream",
          "name": "stdout",
          "text": [
            "\n",
            "Akurasi: 1.0\n",
            "\n",
            "Classification Report:\n",
            "              precision    recall  f1-score   support\n",
            "\n",
            "     positif     1.0000    1.0000    1.0000         2\n",
            "\n",
            "    accuracy                         1.0000         2\n",
            "   macro avg     1.0000    1.0000    1.0000         2\n",
            "weighted avg     1.0000    1.0000    1.0000         2\n",
            "\n"
          ]
        },
        {
          "output_type": "display_data",
          "data": {
            "text/plain": [
              "<Figure size 600x400 with 1 Axes>"
            ],
            "image/png": "[encoded data removed]"
          },
          "metadata": {}
        },
        {
          "output_type": "display_data",
          "data": {
            "text/plain": [
              "<Figure size 600x400 with 2 Axes>"
            ],
            "image/png": "[encoded data removed]"
          },
          "metadata": {}
        }
      ]
    }
  ]
}